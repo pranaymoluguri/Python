{
 "cells": [
  {
   "cell_type": "markdown",
   "id": "5bccca23",
   "metadata": {},
   "source": [
    "\n",
    "<html>\n",
    "<body>\n",
    "    <center><h1 style=\"color:Blue\";>Print Function in Detail</h1></center>\n",
    "</body>\n",
    "</html>"
   ]
  },
  {
   "cell_type": "code",
   "execution_count": 3,
   "id": "6c7c2ba5",
   "metadata": {},
   "outputs": [
    {
     "name": "stdout",
     "output_type": "stream",
     "text": [
      "Hello World\n"
     ]
    }
   ],
   "source": [
    "print(\"Hello\",\"World\")"
   ]
  },
  {
   "cell_type": "code",
   "execution_count": 11,
   "id": "5c64f0d7",
   "metadata": {},
   "outputs": [
    {
     "name": "stdout",
     "output_type": "stream",
     "text": [
      "Hello World\n"
     ]
    }
   ],
   "source": [
    "x=\"Hello\"\n",
    "y=\"World\"\n",
    "z=\"Ok Bye\"\n",
    "print(x,y)"
   ]
  },
  {
   "cell_type": "markdown",
   "id": "89d2648e",
   "metadata": {},
   "source": [
    "### Use Separator in place of Space"
   ]
  },
  {
   "cell_type": "code",
   "execution_count": 8,
   "id": "882609dc",
   "metadata": {},
   "outputs": [
    {
     "name": "stdout",
     "output_type": "stream",
     "text": [
      "Male/Female/Non Binary/Anti Gender/6\n"
     ]
    }
   ],
   "source": [
    "print(\"Male\",\"Female\",\"Non Binary\",\"Anti Gender\",\"6\",sep=\"/\")"
   ]
  },
  {
   "cell_type": "code",
   "execution_count": 9,
   "id": "d44f9a71",
   "metadata": {},
   "outputs": [
    {
     "name": "stdout",
     "output_type": "stream",
     "text": [
      "Male - Female - Non Binary - Anti Gender - 6\n"
     ]
    }
   ],
   "source": [
    "print(\"Male\",\"Female\",\"Non Binary\",\"Anti Gender\",\"6\",sep=\" - \")"
   ]
  },
  {
   "cell_type": "code",
   "execution_count": 12,
   "id": "f271fd60",
   "metadata": {},
   "outputs": [
    {
     "name": "stdout",
     "output_type": "stream",
     "text": [
      "Hello + World + Ok Bye\n"
     ]
    }
   ],
   "source": [
    "print(x,y,z,sep=\" + \")"
   ]
  },
  {
   "cell_type": "markdown",
   "id": "9abb873c",
   "metadata": {},
   "source": [
    "### Use End='\\n'"
   ]
  },
  {
   "cell_type": "code",
   "execution_count": 15,
   "id": "b048c2d7",
   "metadata": {},
   "outputs": [
    {
     "name": "stdout",
     "output_type": "stream",
     "text": [
      "Male Female Non Binary Anti Gender 6\n",
      "Hello World Ok Bye\n"
     ]
    }
   ],
   "source": [
    "print(\"Male\",\"Female\",\"Non Binary\",\"Anti Gender\",\"6\")\n",
    "print(x,y,z)"
   ]
  },
  {
   "cell_type": "code",
   "execution_count": 17,
   "id": "2c142632",
   "metadata": {},
   "outputs": [
    {
     "name": "stdout",
     "output_type": "stream",
     "text": [
      "Male Female Non Binary Anti Gender 6 & Hello World Ok Bye\n"
     ]
    }
   ],
   "source": [
    "print(\"Male\",\"Female\",\"Non Binary\",\"Anti Gender\",\"6\",end=' & ')\n",
    "print(x,y,z)"
   ]
  },
  {
   "cell_type": "markdown",
   "id": "3c866142",
   "metadata": {},
   "source": [
    "### Use Shift + Tab inside print() brackets to check documentation"
   ]
  },
  {
   "cell_type": "markdown",
   "id": "935c4ba1",
   "metadata": {},
   "source": []
  },
  {
   "cell_type": "code",
   "execution_count": null,
   "id": "502c66f4",
   "metadata": {},
   "outputs": [],
   "source": []
  },
  {
   "cell_type": "code",
   "execution_count": 3,
   "id": "e90c6a9f",
   "metadata": {},
   "outputs": [],
   "source": [
    "name,age,sex=\"Pranay\",32,\"Male\"\n"
   ]
  },
  {
   "cell_type": "code",
   "execution_count": 4,
   "id": "bac32d59",
   "metadata": {},
   "outputs": [
    {
     "name": "stdout",
     "output_type": "stream",
     "text": [
      "Pranay 32 Male\n"
     ]
    }
   ],
   "source": [
    "print(name,age,sex)"
   ]
  },
  {
   "cell_type": "code",
   "execution_count": 9,
   "id": "d7f046ad",
   "metadata": {},
   "outputs": [
    {
     "name": "stdout",
     "output_type": "stream",
     "text": [
      "['False', 'None', 'True', 'and', 'as', 'assert', 'async', 'await', 'break', 'class', 'continue', 'def', 'del', 'elif', 'else', 'except', 'finally', 'for', 'from', 'global', 'if', 'import', 'in', 'is', 'lambda', 'nonlocal', 'not', 'or', 'pass', 'raise', 'return', 'try', 'while', 'with', 'yield']\n"
     ]
    }
   ],
   "source": [
    "# Python has 33 Keywords which cannot be used as Variables\n",
    "import keyword\n",
    "print(keyword.kwlist)"
   ]
  },
  {
   "cell_type": "code",
   "execution_count": 10,
   "id": "8677ea7c",
   "metadata": {},
   "outputs": [],
   "source": [
    "#Identifier : name used to identify a variable, function, class, module or other object"
   ]
  },
  {
   "cell_type": "markdown",
   "id": "bb981cfb",
   "metadata": {},
   "source": [
    "# Rules:\n",
    "## Can only start with an alphabet or an _ (underscore)\n",
    "## Followed by 0 or more letters, _ and digits\n",
    "## Keywords cannot be used as an identifiers"
   ]
  },
  {
   "cell_type": "markdown",
   "id": "3c6d9634",
   "metadata": {},
   "source": []
  }
 ],
 "metadata": {
  "kernelspec": {
   "display_name": "Python 3 (ipykernel)",
   "language": "python",
   "name": "python3"
  },
  "language_info": {
   "codemirror_mode": {
    "name": "ipython",
    "version": 3
   },
   "file_extension": ".py",
   "mimetype": "text/x-python",
   "name": "python",
   "nbconvert_exporter": "python",
   "pygments_lexer": "ipython3",
   "version": "3.11.4"
  }
 },
 "nbformat": 4,
 "nbformat_minor": 5
}
